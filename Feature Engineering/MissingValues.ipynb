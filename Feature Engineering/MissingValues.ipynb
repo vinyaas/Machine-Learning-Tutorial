{
 "cells": [
  {
   "cell_type": "code",
   "execution_count": 43,
   "metadata": {},
   "outputs": [],
   "source": [
    "import numpy as np \n",
    "import pandas as pd \n",
    "import matplotlib.pyplot as plt\n",
    "from sklearn import datasets"
   ]
  },
  {
   "cell_type": "code",
   "execution_count": 44,
   "metadata": {},
   "outputs": [],
   "source": [
    "np.random.seed(0)\n",
    "\n",
    "# Generate a random DataFrame with 150 rows and 6 columns\n",
    "df = pd.DataFrame(np.random.rand(150, 6), columns=list('ABCDEF'))\n",
    "\n",
    "# Introduce missing values randomly\n",
    "# Define the percentage of missing values\n",
    "missing_rate = 0.05  # 5% of the data will be missing\n",
    "\n",
    "# Calculate the number of missing values\n",
    "n_missing = int(np.floor(df.size * missing_rate))\n",
    "\n",
    "# Randomly choose indices to be missing\n",
    "missing_indices = [(row, col) for row in np.random.choice(df.index, n_missing)\n",
    "                   for col in np.random.choice(df.columns, n_missing)]\n",
    "\n",
    "# Set the chosen indices to NaN\n",
    "for row, col in missing_indices:\n",
    "    df.at[row, col] = np.nan"
   ]
  },
  {
   "cell_type": "code",
   "execution_count": 45,
   "metadata": {},
   "outputs": [
    {
     "data": {
      "text/plain": [
       "A    41\n",
       "B    41\n",
       "C    41\n",
       "D    41\n",
       "E    41\n",
       "F    41\n",
       "dtype: int64"
      ]
     },
     "execution_count": 45,
     "metadata": {},
     "output_type": "execute_result"
    }
   ],
   "source": [
    "def missing_values(df):\n",
    "    return df.isnull().sum().sort_values(ascending = False)\n",
    "missing_values(df)"
   ]
  },
  {
   "cell_type": "markdown",
   "metadata": {},
   "source": [
    "IMPUTING FOR SINGLE COLUMNS"
   ]
  },
  {
   "cell_type": "code",
   "execution_count": 52,
   "metadata": {},
   "outputs": [],
   "source": [
    " # Impute the mean values in case if missing data.\n",
    "class imputationmissingvalues:\n",
    "    \n",
    "    #impute the mean values for missing data\n",
    "    def impute_mean(self, df):\n",
    "        for col in df.columns:\n",
    "            df[col] = df[col].fillna(df[col].mean())\n",
    "            return df\n",
    "    \n",
    "    #impute the median values for missing data \n",
    "    def impute_mode(self ,df):\n",
    "        for col in df.columns:\n",
    "            df[col] = df[col].fillna(df[col].median)\n",
    "            \n",
    "    #impute the missing values with interpolate .\n",
    "    #The interpolate method will estimate the missing values in column ‘A’ as follows:\n",
    "    #The second value in column ‘A’ will be interpolated as the average of the first and third values, which is ((1 + 3) / 2 = 2).\n",
    "    #The fifth value in column ‘A’ will be interpolated as the average of the fourth and sixth values, which is ((4 + 6) / 2 = 5).\n",
    "    # Can be used in time series data , continous data , data with a trend / pattern .\n",
    "\n",
    "    def impute_interpolate(self , df):\n",
    "        for col in df.columns:\n",
    "            df[col] = df[col].interpolate()\n",
    "            df[col] = df[col].fillna(method = 'bfill')\n",
    "            return df\n",
    "\n",
    "imputer = imputationmissingvalues()\n",
    "\n",
    "df_mean = imputer.impute_mean(df)\n",
    "df_median = imputer.impute_mode(df)\n",
    "df_interpolate = imputer.impute_interpolate(df)"
   ]
  },
  {
   "cell_type": "code",
   "execution_count": null,
   "metadata": {},
   "outputs": [],
   "source": []
  }
 ],
 "metadata": {
  "kernelspec": {
   "display_name": "Python 3",
   "language": "python",
   "name": "python3"
  },
  "language_info": {
   "codemirror_mode": {
    "name": "ipython",
    "version": 3
   },
   "file_extension": ".py",
   "mimetype": "text/x-python",
   "name": "python",
   "nbconvert_exporter": "python",
   "pygments_lexer": "ipython3",
   "version": "3.11.1"
  }
 },
 "nbformat": 4,
 "nbformat_minor": 2
}
